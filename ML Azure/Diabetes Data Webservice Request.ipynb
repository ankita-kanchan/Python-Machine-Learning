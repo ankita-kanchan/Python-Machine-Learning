{
 "cells": [
  {
   "cell_type": "code",
   "execution_count": 1,
   "metadata": {},
   "outputs": [],
   "source": [
    "key=\"zdBTWIa3+a7YvO4LTIESr6bYHErnfFrqeZtjCF7S2K0LF//kcCQsRehnYLKK7TnYGsC5JYQSe7V3WcCD9qX9gw==\"\n",
    "url=\"https://ussouthcentral.services.azureml.net/workspaces/fc34b47500bf436fb0eaf515fc0b01d2/services/eb30b6b3b7c0411e9a6a6327c0aa272b/execute?api-version=2.0&format=swagger\""
   ]
  },
  {
   "cell_type": "code",
   "execution_count": 2,
   "metadata": {},
   "outputs": [],
   "source": [
    "data = {\n",
    "\n",
    "        \"Inputs\": {\n",
    "\n",
    "                \"input1\":\n",
    "\n",
    "                [\n",
    "\n",
    "                    {\n",
    "\n",
    "                            'Pregnancies': \"2\",   \n",
    "\n",
    "                            'Glucose': \"45\",   \n",
    "\n",
    "                            'BloodPressure': \"45\",   \n",
    "\n",
    "                            'SkinThickness': \"43\",   \n",
    "\n",
    "                            'Insulin': \"15\",   \n",
    "\n",
    "                            'BMI': \"56\",   \n",
    "\n",
    "                            'DiabetesPedigreeFunction': \"56\",   \n",
    "\n",
    "                            'Age': \"56\",   \n",
    "\n",
    "                            'Outcome': \"1\",   \n",
    "\n",
    "                    }\n",
    "\n",
    "                ],\n",
    "\n",
    "        },\n",
    "\n",
    "    \"GlobalParameters\":  {\n",
    "\n",
    "    }\n",
    "\n",
    "}\n"
   ]
  },
  {
   "cell_type": "code",
   "execution_count": 3,
   "metadata": {},
   "outputs": [
    {
     "data": {
      "text/plain": [
       "'{\"Inputs\": {\"input1\": [{\"Pregnancies\": \"2\", \"Glucose\": \"45\", \"BloodPressure\": \"45\", \"SkinThickness\": \"43\", \"Insulin\": \"15\", \"BMI\": \"56\", \"DiabetesPedigreeFunction\": \"56\", \"Age\": \"56\", \"Outcome\": \"1\"}]}, \"GlobalParameters\": {}}'"
      ]
     },
     "execution_count": 3,
     "metadata": {},
     "output_type": "execute_result"
    }
   ],
   "source": [
    "import requests \n",
    "import json\n",
    "input_data=json.dumps(data)\n",
    "input_data"
   ]
  },
  {
   "cell_type": "code",
   "execution_count": 4,
   "metadata": {},
   "outputs": [],
   "source": [
    "header={'Content-Type':'application/json'}\n",
    "header['Authorization']='Bearer {}'.format(key)"
   ]
  },
  {
   "cell_type": "code",
   "execution_count": 5,
   "metadata": {},
   "outputs": [
    {
     "data": {
      "text/plain": [
       "'{\"Results\":{\"output1\":[{\"Pregnancies\":\"2\",\"Glucose\":\"45\",\"BloodPressure\":\"45\",\"SkinThickness\":\"43\",\"Insulin\":\"15\",\"BMI\":\"56\",\"DiabetesPedigreeFunction\":\"56\",\"Age\":\"56\",\"Outcome\":\"1\",\"Scored Labels\":\"1\",\"Scored Probabilities\":\"0.58305436372757\"}]}}'"
      ]
     },
     "execution_count": 5,
     "metadata": {},
     "output_type": "execute_result"
    }
   ],
   "source": [
    "resp=requests.post(url,input_data,headers=header)\n",
    "resp.text"
   ]
  }
 ],
 "metadata": {
  "kernelspec": {
   "display_name": "Python 3",
   "language": "python",
   "name": "python3"
  },
  "language_info": {
   "codemirror_mode": {
    "name": "ipython",
    "version": 3
   },
   "file_extension": ".py",
   "mimetype": "text/x-python",
   "name": "python",
   "nbconvert_exporter": "python",
   "pygments_lexer": "ipython3",
   "version": "3.8.5"
  }
 },
 "nbformat": 4,
 "nbformat_minor": 4
}
