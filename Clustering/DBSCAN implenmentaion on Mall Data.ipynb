{
 "cells": [
  {
   "cell_type": "markdown",
   "metadata": {},
   "source": [
    "## DBSCAN\n",
    "### DBSCAN stands for Density-Based Spatial Clustering of Applications with Noise.\n",
    "\n",
    "It groups ‘densely grouped’ data points into a single cluster. It can identify clusters in large spatial datasets by looking at the local density of the data points. The most exciting feature of DBSCAN clustering is that it is robust to outliers. It also does not require the number of clusters to be told beforehand, unlike K-Means, where we have to specify the number of centroids.\n",
    "\n",
    "DBSCAN requires only two parameters: epsilon and minPoints. Epsilon is the radius of the circle to be created around each data point to check the density and minPoints is the minimum number of data points required inside that circle for that data point to be classified as a Core point.\n",
    "\n",
    "\n",
    "\n",
    "***Core*** — This is a point that has at least m points within distance n from itself.<br>\n",
    "***Border*** — This is a point that has at least one Core point at a distance n.<br>\n",
    "***Noise*** — This is a point that is neither a Core nor a Border. And it has less than m points within distance n from itself. <br>\n",
    "\n",
    "Algorithmic steps for DBSCAN clustering\n",
    "\n",
    "1] The algorithm proceeds by arbitrarily picking up a point in the dataset (until all points have been visited).\n",
    "<br>\n",
    "2] If there are at least ‘minPoint’ points within a radius of ‘ε’ to the point then we consider all these points to be part of the same cluster.\n",
    "<br>\n",
    "3] The clusters are then expanded by recursively repeating the neighborhood calculation for each neighboring point \n",
    "\n",
    "\n",
    "### Steps of DBSCAN Algorithm:\n",
    "\n",
    "With the definitions above, we can go through the steps of DBSCAN algorithm as below —\n",
    "\n",
    "    1] The algorithm starts with an arbitrary point which has not been visited and its neighborhood information is retrieved from the ϵ parameter.\n",
    "    2] If this point contains MinPts within ϵ neighborhood, cluster formation starts. Otherwise the point is labeled as noise. This point can be later found within the ϵ neighborhood of a different point and, thus can be made a part of the cluster. Concept of density reachable and density connected points are important here.\n",
    "    3] If a point is found to be a core point then the points within the ϵ neighborhood is also part of the cluster. So all the points found within ϵ neighborhood are added, along with their own ϵ neighborhood, if they are also core points.\n",
    "    4] The above process continues until the density-connected cluster is completely found.\n",
    "    5] The process restarts with a new point which can be a part of a new cluster or labeled as noise.\n",
    "    \n",
    "### Parameter Estimation\n",
    "\n",
    " \n",
    "Every data mining task has the problem of parameters. Every parameter influences the algorithm in specific ways. For DBSCAN, the parameters ε and minPts are needed.\n",
    "\n",
    "***minPts:*** As a rule of thumb, a minimum minPts can be derived from the number of dimensions D in the data set, as minPts ≥ D + 1. The low value minPts = 1 does not make sense, as then every point on its own will already be a cluster. With minPts ≤ 2, the result will be the same as of hierarchical clustering with the single link metric, with the dendrogram cut at height ε. Therefore, minPts must be chosen at least 3. However, larger values are usually better for data sets with noise and will yield more significant clusters. As a rule of thumb, minPts = 2·dim can be used, but it may be necessary to choose larger values for very large data, for noisy data or for data that contains many duplicates.<br><br>\n",
    "***ε***: The value for ε can then be chosen by using a k-distance graph, plotting the distance to the k = minPts-1 nearest neighbor ordered from the largest to the smallest value. Good values of ε are where this plot shows an “elbow”: if ε is chosen much too small, a large part of the data will not be clustered; whereas for a too high value of ε, clusters will merge and the majority of objects will be in the same cluster. In general, small values of ε are preferable, and as a rule of thumb, only a small fraction of points should be within this distance of each other.<br><br>\n",
    "***Distance function***: The choice of distance function is tightly linked to the choice of ε, and has a major impact on the outcomes. In general, it will be necessary to first identify a reasonable measure of similarity for the data set, before the parameter ε can be chosen. There is no estimation for this parameter, but the distance functions need to be chosen appropriately for the data set. "
   ]
  },
  {
   "cell_type": "code",
   "execution_count": 1,
   "metadata": {},
   "outputs": [],
   "source": [
    "import pandas as pd\n",
    "import numpy as np\n",
    "import matplotlib.pyplot as plt"
   ]
  },
  {
   "cell_type": "code",
   "execution_count": 2,
   "metadata": {},
   "outputs": [],
   "source": [
    "df=pd.read_csv(\"../Data/Mall_Customers.csv\")"
   ]
  },
  {
   "cell_type": "code",
   "execution_count": 3,
   "metadata": {},
   "outputs": [
    {
     "data": {
      "text/plain": [
       "Index(['CustomerID', 'Genre', 'Age', 'Annual_Income_(k$)', 'Spending_Score'], dtype='object')"
      ]
     },
     "execution_count": 3,
     "metadata": {},
     "output_type": "execute_result"
    }
   ],
   "source": [
    "df.columns"
   ]
  },
  {
   "cell_type": "code",
   "execution_count": 4,
   "metadata": {},
   "outputs": [],
   "source": [
    "df=df[['Annual_Income_(k$)', 'Spending_Score']]"
   ]
  },
  {
   "cell_type": "code",
   "execution_count": 5,
   "metadata": {},
   "outputs": [
    {
     "data": {
      "text/html": [
       "<div>\n",
       "<style scoped>\n",
       "    .dataframe tbody tr th:only-of-type {\n",
       "        vertical-align: middle;\n",
       "    }\n",
       "\n",
       "    .dataframe tbody tr th {\n",
       "        vertical-align: top;\n",
       "    }\n",
       "\n",
       "    .dataframe thead th {\n",
       "        text-align: right;\n",
       "    }\n",
       "</style>\n",
       "<table border=\"1\" class=\"dataframe\">\n",
       "  <thead>\n",
       "    <tr style=\"text-align: right;\">\n",
       "      <th></th>\n",
       "      <th>Annual_Income_(k$)</th>\n",
       "      <th>Spending_Score</th>\n",
       "    </tr>\n",
       "  </thead>\n",
       "  <tbody>\n",
       "    <tr>\n",
       "      <th>0</th>\n",
       "      <td>15</td>\n",
       "      <td>39</td>\n",
       "    </tr>\n",
       "    <tr>\n",
       "      <th>1</th>\n",
       "      <td>15</td>\n",
       "      <td>81</td>\n",
       "    </tr>\n",
       "    <tr>\n",
       "      <th>2</th>\n",
       "      <td>16</td>\n",
       "      <td>6</td>\n",
       "    </tr>\n",
       "    <tr>\n",
       "      <th>3</th>\n",
       "      <td>16</td>\n",
       "      <td>77</td>\n",
       "    </tr>\n",
       "    <tr>\n",
       "      <th>4</th>\n",
       "      <td>17</td>\n",
       "      <td>40</td>\n",
       "    </tr>\n",
       "  </tbody>\n",
       "</table>\n",
       "</div>"
      ],
      "text/plain": [
       "   Annual_Income_(k$)  Spending_Score\n",
       "0                  15              39\n",
       "1                  15              81\n",
       "2                  16               6\n",
       "3                  16              77\n",
       "4                  17              40"
      ]
     },
     "execution_count": 5,
     "metadata": {},
     "output_type": "execute_result"
    }
   ],
   "source": [
    "df.head()"
   ]
  },
  {
   "cell_type": "code",
   "execution_count": null,
   "metadata": {},
   "outputs": [],
   "source": [
    "#min points Dim+1 => 2+1=3"
   ]
  },
  {
   "cell_type": "code",
   "execution_count": 8,
   "metadata": {},
   "outputs": [
    {
     "name": "stdout",
     "output_type": "stream",
     "text": [
      "[ 0.          0.          0.          0.          0.          0.\n",
      "  0.          0.          1.          1.          1.          1.\n",
      "  1.          1.          1.          1.          1.          1.\n",
      "  1.          1.          1.          1.          1.          1.\n",
      "  1.          1.          1.          1.          1.          1.\n",
      "  1.          1.          1.          1.          1.          1.\n",
      "  1.          1.          1.          1.          1.          1.\n",
      "  1.          1.          1.          1.          1.          1.\n",
      "  1.          1.          1.          1.41421356  1.41421356  1.41421356\n",
      "  1.41421356  1.41421356  1.41421356  1.41421356  1.41421356  1.41421356\n",
      "  1.41421356  1.41421356  1.41421356  1.41421356  1.41421356  1.41421356\n",
      "  1.41421356  1.41421356  1.41421356  1.41421356  1.41421356  1.41421356\n",
      "  1.41421356  1.41421356  1.41421356  1.41421356  1.41421356  1.41421356\n",
      "  2.          2.          2.          2.          2.          2.\n",
      "  2.          2.          2.          2.          2.          2.\n",
      "  2.          2.          2.          2.          2.          2.\n",
      "  2.          2.          2.          2.          2.          2.\n",
      "  2.          2.          2.          2.          2.23606798  2.23606798\n",
      "  2.23606798  2.23606798  2.23606798  2.23606798  2.23606798  2.23606798\n",
      "  2.23606798  2.23606798  2.23606798  2.23606798  2.23606798  2.23606798\n",
      "  2.23606798  2.23606798  2.23606798  2.23606798  2.23606798  2.23606798\n",
      "  2.23606798  2.23606798  2.23606798  2.82842712  2.82842712  2.82842712\n",
      "  3.          3.          3.          3.          3.          3.\n",
      "  3.          3.16227766  3.16227766  3.16227766  3.16227766  3.16227766\n",
      "  3.16227766  3.16227766  3.16227766  3.16227766  3.16227766  3.60555128\n",
      "  3.60555128  3.60555128  3.60555128  4.          4.          4.12310563\n",
      "  4.12310563  4.12310563  4.12310563  4.24264069  4.24264069  4.47213595\n",
      "  4.47213595  4.47213595  4.47213595  5.          5.          5.\n",
      "  5.          5.          5.          5.09901951  5.09901951  5.09901951\n",
      "  5.09901951  5.09901951  5.09901951  5.09901951  5.38516481  5.38516481\n",
      "  5.38516481  5.38516481  5.83095189  5.83095189  6.08276253  6.08276253\n",
      "  6.08276253  6.32455532  7.28010989  7.28010989  7.81024968  7.81024968\n",
      "  8.60232527  9.05538514 10.63014581 10.63014581 11.66190379 13.41640786\n",
      " 14.2126704  14.86606875]\n"
     ]
    }
   ],
   "source": [
    "# k- distance plot\n",
    "from sklearn.neighbors import NearestNeighbors\n",
    "n=NearestNeighbors(n_neighbors=2)\n",
    "n_fit=n.fit(df)\n",
    "distance,_=n_fit.kneighbors(df)\n",
    "distance=np.sort(distance,axis=0)\n",
    "#print(distance)\n",
    "distance=distance[:,1]\n",
    "print(distance)"
   ]
  },
  {
   "cell_type": "code",
   "execution_count": 9,
   "metadata": {},
   "outputs": [
    {
     "data": {
      "text/plain": [
       "Text(0, 0.5, 'Epsilon')"
      ]
     },
     "execution_count": 9,
     "metadata": {},
     "output_type": "execute_result"
    },
    {
     "data": {
      "image/png": "[encoded data removed]",
      "text/plain": [
       "<Figure size 432x288 with 1 Axes>"
      ]
     },
     "metadata": {
      "needs_background": "light"
     },
     "output_type": "display_data"
    }
   ],
   "source": [
    "plt.plot(distance)\n",
    "plt.xlabel(\"sorted distance\")\n",
    "plt.ylabel(\"Epsilon\")"
   ]
  },
  {
   "cell_type": "code",
   "execution_count": null,
   "metadata": {},
   "outputs": [],
   "source": [
    "#epsilon =5"
   ]
  },
  {
   "cell_type": "code",
   "execution_count": 24,
   "metadata": {},
   "outputs": [
    {
     "data": {
      "text/plain": [
       "DBSCAN(eps=5, min_samples=3)"
      ]
     },
     "execution_count": 24,
     "metadata": {},
     "output_type": "execute_result"
    }
   ],
   "source": [
    "from sklearn.cluster import DBSCAN\n",
    "model=DBSCAN(eps=5,min_samples=3)\n",
    "model.fit(df)"
   ]
  },
  {
   "cell_type": "code",
   "execution_count": 25,
   "metadata": {},
   "outputs": [
    {
     "data": {
      "text/plain": [
       "array([-1,  1,  0,  1, -1,  1,  0, -1,  0,  1,  2, -1,  2,  1,  2,  1,  3,\n",
       "       -1, -1, -1,  3,  4, -1,  4,  5, -1,  3, -1,  3, -1, -1,  4, -1, -1,\n",
       "        5, -1,  5,  4, -1,  4, -1, -1, -1,  6, -1,  6,  6,  6,  6,  6,  6,\n",
       "        6,  6,  6,  6,  6,  6,  6,  6,  6,  6,  6,  6,  6,  6,  6,  6,  6,\n",
       "        6,  6,  6,  6,  6,  6,  6,  6,  6,  6,  6,  6,  6,  6,  6,  6,  6,\n",
       "        6,  6,  6,  6,  6,  6,  6,  6,  6,  6,  6,  6,  6,  6,  6,  6,  6,\n",
       "        6,  6,  6,  6,  6,  6,  6,  6,  6,  6,  6,  6,  6,  6,  6,  6,  6,\n",
       "        6,  6,  6,  6,  7, -1,  8, -1,  7,  9,  8,  9,  8, -1,  8,  9,  7,\n",
       "        9,  8,  9,  8,  9,  7, 10,  7,  9,  7, 10,  8,  9,  7,  9,  7,  9,\n",
       "        8,  9,  7,  9,  8,  9,  8, 10,  7,  9,  7, -1, -1, -1, -1, -1, -1,\n",
       "       11, -1, 11, -1, 11, -1, 11, -1, -1, -1, -1, -1, -1, -1, -1, -1, -1,\n",
       "       -1, -1, -1, -1, -1, -1, -1, -1, -1, -1, -1, -1, -1], dtype=int64)"
      ]
     },
     "execution_count": 25,
     "metadata": {},
     "output_type": "execute_result"
    }
   ],
   "source": [
    "model.labels_"
   ]
  },
  {
   "cell_type": "code",
   "execution_count": 26,
   "metadata": {},
   "outputs": [
    {
     "data": {
      "text/plain": [
       "Index(['Annual_Income_(k$)', 'Spending_Score'], dtype='object')"
      ]
     },
     "execution_count": 26,
     "metadata": {},
     "output_type": "execute_result"
    }
   ],
   "source": [
    "df.columns "
   ]
  },
  {
   "cell_type": "code",
   "execution_count": 32,
   "metadata": {},
   "outputs": [
    {
     "data": {
      "text/plain": [
       "Text(0.5, 1.0, 'Annual_Income_(k$) vs Spending_Score')"
      ]
     },
     "execution_count": 32,
     "metadata": {},
     "output_type": "execute_result"
    },
    {
     "data": {
      "image/png": "[encoded data removed]",
      "text/plain": [
       "<Figure size 432x288 with 1 Axes>"
      ]
     },
     "metadata": {
      "needs_background": "light"
     },
     "output_type": "display_data"
    }
   ],
   "source": [
    "plt.scatter(df['Annual_Income_(k$)'], df['Spending_Score'])\n",
    "plt.xlabel(\"Annual_Income_(k$)\")\n",
    "plt.ylabel(\"Spending_Score\")\n",
    "plt.title(\"Annual_Income_(k$) vs Spending_Score\")"
   ]
  },
  {
   "cell_type": "code",
   "execution_count": 34,
   "metadata": {},
   "outputs": [
    {
     "data": {
      "text/plain": [
       "Text(0, 0.5, 'Spending_Score')"
      ]
     },
     "execution_count": 34,
     "metadata": {},
     "output_type": "execute_result"
    },
    {
     "data": {
      "image/png": "[encoded data removed]",
      "text/plain": [
       "<Figure size 432x288 with 1 Axes>"
      ]
     },
     "metadata": {
      "needs_background": "light"
     },
     "output_type": "display_data"
    }
   ],
   "source": [
    "plt.scatter(df['Annual_Income_(k$)'], df['Spending_Score'],c=model.labels_)\n",
    "plt.title(\"DBSCAN (Annual_Income_(k$),Spending_Score)\")\n",
    "plt.xlabel(\"Annual_Income_(k$)\")\n",
    "plt.ylabel(\"Spending_Score\")"
   ]
  }
 ],
 "metadata": {
  "kernelspec": {
   "display_name": "Python 3",
   "language": "python",
   "name": "python3"
  },
  "language_info": {
   "codemirror_mode": {
    "name": "ipython",
    "version": 3
   },
   "file_extension": ".py",
   "mimetype": "text/x-python",
   "name": "python",
   "nbconvert_exporter": "python",
   "pygments_lexer": "ipython3",
   "version": "3.8.5"
  }
 },
 "nbformat": 4,
 "nbformat_minor": 4
}
